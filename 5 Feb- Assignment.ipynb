{
 "cells": [
  {
   "cell_type": "markdown",
   "id": "99681bd0",
   "metadata": {},
   "source": [
    "# Q1. Explain Class and Object with respect to Object-Oriented Programming. Give a suitable example."
   ]
  },
  {
   "cell_type": "markdown",
   "id": "2e9ecf7c",
   "metadata": {},
   "source": [
    "# Answer:- \n",
    "# Class -> 'Class' is nothing but the abstraction pf some entity which contain some common set of 'Properties' and 'Methods'¶\n",
    "# Object -> Object is a specific instance of that 'Class'. like if a human is class, so it's cbject may be anything it can be actor or sportsman."
   ]
  },
  {
   "cell_type": "code",
   "execution_count": 7,
   "id": "fe42ef79",
   "metadata": {},
   "outputs": [],
   "source": [
    "# Example\n",
    "class Human:\n",
    "    def __init__(self,name,occupation):# Properties\n",
    "        self.name=name\n",
    "        self.occupation = occupation\n",
    "        \n",
    "    \n",
    "    def do_work(self):# Methods\n",
    "        if self.occupation=='Data Scientist':\n",
    "            print(self.name,'is a Data Scientist')\n",
    "        elif self.occupation=='Actor':\n",
    "            print(self.name,'is a Actor')\n",
    "    def speaks(self):# Methods\n",
    "        print(self.name,'says Har Har Mahadev')"
   ]
  },
  {
   "cell_type": "code",
   "execution_count": 9,
   "id": "d50278cd",
   "metadata": {},
   "outputs": [
    {
     "name": "stdout",
     "output_type": "stream",
     "text": [
      "Vinay is a Data Scientist\n",
      "Vinay says Har Har Mahadev\n"
     ]
    }
   ],
   "source": [
    "df = Human('Vinay','Data Scientist')\n",
    "df.do_work()\n",
    "df.speaks()"
   ]
  },
  {
   "cell_type": "code",
   "execution_count": 10,
   "id": "833f8fa0",
   "metadata": {},
   "outputs": [
    {
     "name": "stdout",
     "output_type": "stream",
     "text": [
      "Tom Cruise is a Actor\n",
      "Tom Cruise says Har Har Mahadev\n"
     ]
    }
   ],
   "source": [
    "df = Human('Tom Cruise','Actor')\n",
    "df.do_work()\n",
    "df.speaks()"
   ]
  },
  {
   "cell_type": "code",
   "execution_count": null,
   "id": "f57fe6a8",
   "metadata": {},
   "outputs": [],
   "source": []
  },
  {
   "cell_type": "markdown",
   "id": "1c56aa3e",
   "metadata": {},
   "source": [
    "# Q2. Name the four pillars of OOPs."
   ]
  },
  {
   "cell_type": "markdown",
   "id": "29ca8aa8",
   "metadata": {},
   "source": [
    "# Answer:- These four pillars are Inheritance, Polymorphism, Encapsulation and Abstraction."
   ]
  },
  {
   "cell_type": "code",
   "execution_count": null,
   "id": "e765883d",
   "metadata": {},
   "outputs": [],
   "source": []
  },
  {
   "cell_type": "markdown",
   "id": "ef76c15e",
   "metadata": {},
   "source": [
    "# Q3. Explain why the __init__() function is used. Give a suitable example."
   ]
  },
  {
   "cell_type": "markdown",
   "id": "cfa11a6f",
   "metadata": {},
   "source": [
    "# Answer :- The __init__ method lets the class initialize the object's attributes and serves no other purpose. It is only used within classes"
   ]
  },
  {
   "cell_type": "code",
   "execution_count": 12,
   "id": "a656b1af",
   "metadata": {},
   "outputs": [
    {
     "name": "stdout",
     "output_type": "stream",
     "text": [
      "Hello, my name is Nikhil\n"
     ]
    }
   ],
   "source": [
    "# Exp - \n",
    "\n",
    "# A Sample class with init method\n",
    "class Person:\n",
    " \n",
    "    # init method or constructor\n",
    "    def __init__(self, name):\n",
    "        self.name = name\n",
    " \n",
    "    # Sample Method\n",
    "    def say_hi(self):\n",
    "        print('Hello, my name is', self.name)\n",
    " \n",
    " \n",
    "p = Person('Nikhil')\n",
    "p.say_hi()"
   ]
  },
  {
   "cell_type": "code",
   "execution_count": null,
   "id": "c0320f56",
   "metadata": {},
   "outputs": [],
   "source": []
  },
  {
   "cell_type": "markdown",
   "id": "85080a2b",
   "metadata": {},
   "source": [
    "# Q4.Why self is used in OOPs?\n",
    "# Answer:-The self variable is used to represent the instance of the class which is often used in object-oriented programming. It works as a reference to the object. Python uses the self parameter to refer to instance attributes and methods of the class."
   ]
  },
  {
   "cell_type": "code",
   "execution_count": null,
   "id": "d1c90a8f",
   "metadata": {},
   "outputs": [],
   "source": []
  },
  {
   "cell_type": "markdown",
   "id": "3542e5d3",
   "metadata": {},
   "source": [
    "# Q5.What is inheritance? Give an example for each type of inheritance.\n",
    "# Answer => Inheritance is a process of obtaining properties and characteristics(variables and methods) of another class."
   ]
  },
  {
   "cell_type": "code",
   "execution_count": 16,
   "id": "0e118766",
   "metadata": {},
   "outputs": [
    {
     "name": "stdout",
     "output_type": "stream",
     "text": [
      "This function is in parent class.\n",
      "This function is in child class.\n"
     ]
    }
   ],
   "source": [
    "# Exp -\n",
    "\n",
    "# Base class\n",
    "class Parent:\n",
    "\tdef func1(self):\n",
    "\t\tprint(\"This function is in parent class.\")\n",
    "\n",
    "# Derived class\n",
    "\n",
    "\n",
    "class Child(Parent):\n",
    "\tdef func2(self):\n",
    "\t\tprint(\"This function is in child class.\")\n",
    "\n",
    "\n",
    "# Driver's code\n",
    "obj = Child()\n",
    "obj.func1()\n",
    "obj.func2()"
   ]
  },
  {
   "cell_type": "code",
   "execution_count": null,
   "id": "f432893a",
   "metadata": {},
   "outputs": [],
   "source": []
  }
 ],
 "metadata": {
  "kernelspec": {
   "display_name": "Python 3 (ipykernel)",
   "language": "python",
   "name": "python3"
  },
  "language_info": {
   "codemirror_mode": {
    "name": "ipython",
    "version": 3
   },
   "file_extension": ".py",
   "mimetype": "text/x-python",
   "name": "python",
   "nbconvert_exporter": "python",
   "pygments_lexer": "ipython3",
   "version": "3.9.12"
  }
 },
 "nbformat": 4,
 "nbformat_minor": 5
}
